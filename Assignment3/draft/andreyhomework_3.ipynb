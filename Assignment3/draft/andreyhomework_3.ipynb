{
 "cells": [
  {
   "cell_type": "markdown",
   "id": "76ab597a",
   "metadata": {},
   "source": [
    "# IML Take-Home Assignment 3\n",
    "\n",
    "_Your names here_"
   ]
  },
  {
   "cell_type": "markdown",
   "id": "5a5fda80",
   "metadata": {
    "lines_to_next_cell": 2
   },
   "source": [
    "## Problem 1\n",
    "> Consider the following interface for machine learning \"modules\" that can be chained together in series. (If you like, you can return to this code later and add features like debug information / hooks.)"
   ]
  },
  {
   "cell_type": "code",
   "execution_count": 22,
   "id": "bc7cf1fc",
   "metadata": {
    "lines_to_next_cell": 2
   },
   "outputs": [],
   "source": [
    "import numpy as np\n",
    "from math import sqrt\n",
    "\n",
    "\n",
    "class Module:\n",
    "    def __call__(self, *args, **kwargs) -> np.ndarray:\n",
    "        return self.forward(*args, **kwargs)\n",
    "\n",
    "    def forward(self, x: np.ndarray) -> np.ndarray:\n",
    "        self.x = x\n",
    "        return x\n",
    "\n",
    "    def backward(self, dy: np.ndarray) -> np.ndarray:\n",
    "        return dy\n",
    "\n",
    "    def step(self):\n",
    "        pass\n",
    "\n",
    "\n",
    "class Sequential(Module):\n",
    "    def __init__(self, *components: Module):\n",
    "        self.components: tuple[Module, ...] = components\n",
    "\n",
    "    def forward(self, x):\n",
    "        for c in self.components:\n",
    "            x = c(x)\n",
    "        return x\n",
    "\n",
    "    def backward(self, dy):\n",
    "        for c in reversed(self.components):\n",
    "            dy = c.backward(dy)\n",
    "        return dy\n",
    "\n",
    "    def step(self):\n",
    "        for c in self.components:\n",
    "            c.step()"
   ]
  },
  {
   "cell_type": "markdown",
   "id": "68289316",
   "metadata": {
    "lines_to_next_cell": 2
   },
   "source": [
    "> **Fill in the following implementation of a \"linear layer.\"** In writing, explain the meaning of the \"backward pass\" and how you derived the expressions involved. _(3 points)_"
   ]
  },
  {
   "cell_type": "code",
   "execution_count": 23,
   "id": "eddeab4c",
   "metadata": {
    "lines_to_next_cell": 2
   },
   "outputs": [],
   "source": [
    "from dataclasses import dataclass\n",
    "from numpy.random import randn\n",
    "\n",
    "\n",
    "@dataclass\n",
    "class Linear(Module):\n",
    "    d_in: int\n",
    "    d_out: int\n",
    "    init_scale: float = 1\n",
    "    learning_rate: float = 1\n",
    "\n",
    "    def __post_init__(self):\n",
    "        self.weights = self.init_scale * randn(self.d_in, self.d_out)\n",
    "        self.grad = np.zeros_like(self.weights)\n",
    "\n",
    "    def forward(self, x: np.ndarray) -> np.ndarray:\n",
    "        self.x = x\n",
    "        return x @ self.weights\n",
    "\n",
    "    def backward(self, dy: np.ndarray) -> np.ndarray:\n",
    "        raise NotImplementedError()\n",
    "\n",
    "    def step(self):\n",
    "        self.weights -= self.learning_rate * self.grad"
   ]
  },
  {
   "cell_type": "markdown",
   "id": "cd30d7ca",
   "metadata": {
    "lines_to_next_cell": 2
   },
   "source": [
    "## Problem 2\n",
    "> The following class wlll train a model on a synthetic regression problem and display the learned function."
   ]
  },
  {
   "cell_type": "code",
   "execution_count": 24,
   "id": "b0052c4e",
   "metadata": {
    "lines_to_next_cell": 2
   },
   "outputs": [],
   "source": [
    "from typing import Callable\n",
    "import pandas as pd\n",
    "import seaborn as sns\n",
    "import matplotlib.pyplot as plt\n",
    "from tqdm import tqdm\n",
    "\n",
    "\n",
    "class RegressionProblem:\n",
    "    def __init__(\n",
    "        self,\n",
    "        model: Module,\n",
    "        fn: Callable[[np.ndarray], np.ndarray],\n",
    "    ):\n",
    "        self.model = model\n",
    "        self.b = 50\n",
    "        self.x = np.linspace(0, 1, self.b)[:, None]  # shape: (b, 1)\n",
    "        self.y = fn(self.x) + 0.1 * randn(self.b, 1)  # shape: (b, 1)\n",
    "\n",
    "    def train(self, iters=10) -> pd.Series:\n",
    "        losses = np.zeros(iters)\n",
    "        for i in range(iters):\n",
    "            y_hat = self.model(self.x)\n",
    "            losses[i] = ((y_hat - self.y) ** 2).sum(axis=1).mean()\n",
    "            self.model.backward((y_hat - self.y) / self.b)\n",
    "            self.model.step()\n",
    "        series = pd.Series(losses, name=\"Mean squared error\")\n",
    "        series.index.name = \"Iteration\"\n",
    "        return series\n",
    "\n",
    "    def show(self):\n",
    "        df = pd.DataFrame({\"x\": self.x.flatten(), \"y\": self.y.flatten()})\n",
    "        sns.scatterplot(df, x=\"x\", y=\"y\")\n",
    "        x_sample = np.linspace(-0.2, 1.2, 100)[:, None]\n",
    "        plt.plot(x_sample, self.model(x_sample))"
   ]
  },
  {
   "cell_type": "markdown",
   "id": "2b497c79",
   "metadata": {
    "lines_to_next_cell": 2
   },
   "source": [
    "> Using your implementation of `Linear` above, **define a `Sequential` model that learns a function of the form $y = a x + b$** by applying a suitable \"embedding\" before your linear layer. (Define a module to perform your embedding.) Does the embedding need a backward pass? _(3 points)_"
   ]
  },
  {
   "cell_type": "code",
   "execution_count": 25,
   "id": "475ba7e6",
   "metadata": {
    "lines_to_next_cell": 2
   },
   "outputs": [
    {
     "data": {
      "image/png": "[encoded data removed]",
      "text/plain": [
       "<Figure size 640x480 with 1 Axes>"
      ]
     },
     "metadata": {},
     "output_type": "display_data"
    }
   ],
   "source": [
    "np.random.seed(42)\n",
    "model = Sequential(\n",
    "    # <- Add an embedding here?\n",
    "    Linear(1, 1),  # A learnable linear map\n",
    ")\n",
    "problem = RegressionProblem(model, lambda x: x + 1)\n",
    "# problem.train(100)\n",
    "problem.show()"
   ]
  },
  {
   "cell_type": "markdown",
   "id": "6258603c",
   "metadata": {
    "lines_to_next_cell": 2
   },
   "source": [
    "## Problem 3\n",
    "> Now, let's solve a non-linear regression problem using a very simple neural network with a fixed (untrainable) hidden layer.\n",
    ">\n",
    "> Let $(r_i)_{i = 1}^d$ be a sequence of $d$ \"reference inputs\" and let $x$ be the input to the network. For each $i = 1, \\dots, d,$ let the hidden neuron $h_i$ equal $1$ if $r_i$ is the reference input closest to $x$ and $0$ otherwise. Finally, let the output $y$ of the network be a linear combination\n",
    "> $$\n",
    "y = \\sum_{i = 1}^d w_i h_i.\n",
    "$$\n",
    ">\n",
    "> The following code implements such a network. **Analytically derive the optimal weights $w_i$ for this network under a squared error loss.** What is this network really learning? _(3 points)_"
   ]
  },
  {
   "cell_type": "code",
   "execution_count": 26,
   "id": "ebe7fb75",
   "metadata": {},
   "outputs": [],
   "source": [
    "class LocalEmbedding(Module):\n",
    "    def __init__(self, references: np.ndarray):\n",
    "        self.references = references  # (d_embed, d_in)\n",
    "        self.d_embed, self.d_in = self.references.shape\n",
    "\n",
    "    def forward(self, x):\n",
    "        b = x.shape[0]\n",
    "        out = np.zeros((b, self.d_embed))\n",
    "        distances = np.sum((self.references[None] - x[:, None, :]) ** 2, axis=-1)\n",
    "        out[np.arange(b), np.argmin(distances, axis=-1)] = 1\n",
    "        return out"
   ]
  },
  {
   "cell_type": "code",
   "execution_count": 27,
   "id": "c7387d8c",
   "metadata": {
    "lines_to_next_cell": 2
   },
   "outputs": [
    {
     "data": {
      "image/png": "[encoded data removed]",
      "text/plain": [
       "<Figure size 640x480 with 1 Axes>"
      ]
     },
     "metadata": {},
     "output_type": "display_data"
    }
   ],
   "source": [
    "np.random.seed(42)\n",
    "model = Sequential(\n",
    "    LocalEmbedding(np.linspace(0, 1, 8)[:, None]),\n",
    "    Linear(8, 1),\n",
    ")\n",
    "problem = RegressionProblem(model, lambda x: np.sin(3 * x) + 1)\n",
    "# problem.train(50)\n",
    "problem.show()"
   ]
  },
  {
   "cell_type": "markdown",
   "id": "7a8398fc",
   "metadata": {
    "lines_to_next_cell": 2
   },
   "source": [
    "## Problem 4\n",
    "> Now we'll make the hidden neurons learnable. Each hidden neuron $h_i$ should compute $\\sigma(a_i x + b_i),$ where $\\sigma$ is the \"logistic sigmoid function\" $\\sigma(x) = 1 / (1 + e^{-x})$  and $(a_i, b_i)$ are learnable parameters. As before, the output $y$ will be a learnable linear function of the hidden neurons $h_i.$\n",
    ">\n",
    "> **Implement and train this two-layer MLP on the same problem as above.** Use 16 hidden neurons. Find hyperparameters that make the network converge to a reasonable model in only 200 iterations. Graph the function learned by the network. _(5 points)_"
   ]
  },
  {
   "cell_type": "code",
   "execution_count": 28,
   "id": "7054be52",
   "metadata": {},
   "outputs": [],
   "source": [
    "class Sigmoid(Module):\n",
    "    def forward(self, x):\n",
    "        self.x = x\n",
    "        return 1 / (1 + np.exp(-x))\n",
    "\n",
    "    def backward(self, dy):\n",
    "        raise NotImplementedError()"
   ]
  },
  {
   "cell_type": "code",
   "execution_count": 29,
   "id": "0bc4217b",
   "metadata": {
    "lines_to_next_cell": 2
   },
   "outputs": [
    {
     "data": {
      "image/png": "[encoded data removed]",
      "text/plain": [
       "<Figure size 640x480 with 1 Axes>"
      ]
     },
     "metadata": {},
     "output_type": "display_data"
    }
   ],
   "source": [
    "def make_simple_mlp(d_embed=16):\n",
    "    return Sequential(\n",
    "        # <- Something here?\n",
    "        Linear(1, d_embed, init_scale=1, learning_rate=d_embed),\n",
    "        # <- Something here?\n",
    "        Linear(d_embed, 1, init_scale=1 / d_embed, learning_rate=1 / d_embed),\n",
    "    )\n",
    "\n",
    "\n",
    "np.random.seed(42)\n",
    "problem = RegressionProblem(make_simple_mlp(), lambda x: np.sin(3 * x) + 1)\n",
    "# problem.train(200)\n",
    "problem.show()"
   ]
  },
  {
   "cell_type": "markdown",
   "id": "2a14bf31",
   "metadata": {
    "lines_to_next_cell": 2
   },
   "source": [
    "## Problem 5\n",
    "> The following class will train a model on a synthetic classification problem and display the learned classifier."
   ]
  },
  {
   "cell_type": "code",
   "execution_count": 30,
   "id": "7e61c1fc",
   "metadata": {
    "lines_to_next_cell": 2
   },
   "outputs": [],
   "source": [
    "import numpy as np\n",
    "import pandas as pd\n",
    "from dataclasses import dataclass\n",
    "from numpy.random import randn\n",
    "\n",
    "import seaborn as sns\n",
    "import matplotlib.pyplot as plt\n",
    "from tqdm import tqdm\n",
    "\n",
    "\n",
    "def make_cluster(mean, n_points: int, label: int):\n",
    "    return pd.DataFrame(\n",
    "        {\n",
    "            \"x\": mean[0] + 0.2 * randn(n_points),\n",
    "            \"y\": mean[1] + 0.2 * randn(n_points),\n",
    "            \"label\": label,\n",
    "        }\n",
    "    )\n",
    "\n",
    "class ClassificationProblem:\n",
    "    def __init__(self, model):\n",
    "        self.model = model\n",
    "        self.n_clusters = 3\n",
    "        self.df = pd.concat(\n",
    "            [\n",
    "                make_cluster([1, 1], 50, 0),\n",
    "                make_cluster([-1, 1], 50, 1),\n",
    "                make_cluster([-1, -1], 50, 0),\n",
    "                make_cluster([1, -1], 50, 1),\n",
    "                make_cluster([0, 0], 50, 2),\n",
    "            ],\n",
    "            axis=0,\n",
    "        )\n",
    "\n",
    "    def train(self, n_iters=100):\n",
    "        loss = np.zeros(n_iters)\n",
    "        for i in tqdm(range(n_iters)):\n",
    "            # Forward pass\n",
    "            self.model(self.df[[\"x\", \"y\"]].to_numpy())\n",
    "            # Backward pass using the true labels\n",
    "            self.model.backward(self.df[\"label\"].to_numpy())\n",
    "            # Store the loss from the last layer\n",
    "            loss[i] = self.model.components[-1].loss\n",
    "            # Gradient step\n",
    "            self.model.step()\n",
    "        return loss\n",
    "\n",
    "    def show(self, palette: str = \"bright\"):\n",
    "        from matplotlib.colors import ListedColormap\n",
    "\n",
    "        extent = (-2, 2, -2, 2)\n",
    "\n",
    "        x, y = np.meshgrid(\n",
    "            np.arange(*extent[:2], step=0.01),\n",
    "            np.arange(*extent[2:], step=0.01),\n",
    "        )\n",
    "        colors = sns.color_palette(palette, n_colors=self.n_clusters)\n",
    "        out = self.model(np.stack([arr.flatten() for arr in [x, y]], axis=1))\n",
    "        plt.matshow(\n",
    "            out.reshape(x.shape)[::-1, :],\n",
    "            extent=extent,\n",
    "            alpha=0.3,\n",
    "            cmap=ListedColormap(colors),\n",
    "        )\n",
    "        sns.scatterplot(self.df, x=\"x\", y=\"y\", hue=\"label\", palette=palette)\n",
    "        plt.show()"
   ]
  },
  {
   "cell_type": "markdown",
   "id": "d9d99b78",
   "metadata": {
    "lines_to_next_cell": 2
   },
   "source": [
    "> **Build a two-layer MLP** and train it on this problem. Requirements:\n",
    ">\n",
    "> - Use the ReLU activation function for the hidden layer.\n",
    "> - Use a softmax on the output layer to generate a vector of probabilities.\n",
    "> - Train the network with cross-entropy loss.\n",
    ">\n",
    "> `ClassificationProblem.train()` expects that the backwards pass of your `Module` accepts a vector of true classes, and that its last layer computes a `loss` attribute. Feel free to edit this if you want. _(6 points)_"
   ]
  },
  {
   "cell_type": "code",
   "execution_count": 31,
   "id": "ac828379",
   "metadata": {},
   "outputs": [
    {
     "ename": "NameError",
     "evalue": "name 'ReLU' is not defined",
     "output_type": "error",
     "traceback": [
      "\u001b[1;31m---------------------------------------------------------------------------\u001b[0m",
      "\u001b[1;31mNameError\u001b[0m                                 Traceback (most recent call last)",
      "Cell \u001b[1;32mIn[31], line 38\u001b[0m\n\u001b[0;32m     29\u001b[0m     \u001b[38;5;28;01mreturn\u001b[39;00m Sequential(\n\u001b[0;32m     30\u001b[0m         Linear(\u001b[38;5;241m2\u001b[39m, \u001b[38;5;241m10\u001b[39m),\n\u001b[0;32m     31\u001b[0m         ReLU(),\n\u001b[1;32m   (...)\u001b[0m\n\u001b[0;32m     34\u001b[0m         CrossEntropyLoss(n_classes\u001b[38;5;241m=\u001b[39m\u001b[38;5;241m3\u001b[39m),\n\u001b[0;32m     35\u001b[0m     )\n\u001b[0;32m     37\u001b[0m np\u001b[38;5;241m.\u001b[39mrandom\u001b[38;5;241m.\u001b[39mseed(\u001b[38;5;241m42\u001b[39m)\n\u001b[1;32m---> 38\u001b[0m problem \u001b[38;5;241m=\u001b[39m ClassificationProblem(model\u001b[38;5;241m=\u001b[39m\u001b[43mmake_classifier\u001b[49m\u001b[43m(\u001b[49m\u001b[43m)\u001b[49m)\n\u001b[0;32m     39\u001b[0m \u001b[38;5;66;03m# Uncomment the next line to actually train the model\u001b[39;00m\n\u001b[0;32m     40\u001b[0m \u001b[38;5;66;03m# loss_values = problem.train(100)\u001b[39;00m\n\u001b[0;32m     41\u001b[0m problem\u001b[38;5;241m.\u001b[39mshow()\n",
      "Cell \u001b[1;32mIn[31], line 31\u001b[0m, in \u001b[0;36mmake_classifier\u001b[1;34m()\u001b[0m\n\u001b[0;32m     24\u001b[0m \u001b[38;5;28;01mdef\u001b[39;00m \u001b[38;5;21mmake_classifier\u001b[39m():\n\u001b[0;32m     25\u001b[0m     \u001b[38;5;66;03m# Two-layer MLP:\u001b[39;00m\n\u001b[0;32m     26\u001b[0m     \u001b[38;5;66;03m# Input: 2D (x,y)\u001b[39;00m\n\u001b[0;32m     27\u001b[0m     \u001b[38;5;66;03m# Hidden layer: use ReLU\u001b[39;00m\n\u001b[0;32m     28\u001b[0m     \u001b[38;5;66;03m# Output layer: 3 classes -> use Softmax\u001b[39;00m\n\u001b[0;32m     29\u001b[0m     \u001b[38;5;28;01mreturn\u001b[39;00m Sequential(\n\u001b[0;32m     30\u001b[0m         Linear(\u001b[38;5;241m2\u001b[39m, \u001b[38;5;241m10\u001b[39m),\n\u001b[1;32m---> 31\u001b[0m         \u001b[43mReLU\u001b[49m(),\n\u001b[0;32m     32\u001b[0m         Linear(\u001b[38;5;241m10\u001b[39m, \u001b[38;5;241m3\u001b[39m),\n\u001b[0;32m     33\u001b[0m         Softmax(),\n\u001b[0;32m     34\u001b[0m         CrossEntropyLoss(n_classes\u001b[38;5;241m=\u001b[39m\u001b[38;5;241m3\u001b[39m),\n\u001b[0;32m     35\u001b[0m     )\n",
      "\u001b[1;31mNameError\u001b[0m: name 'ReLU' is not defined"
     ]
    }
   ],
   "source": [
    "@dataclass\n",
    "class CrossEntropyLoss(Module):\n",
    "    n_classes: int\n",
    "\n",
    "    def forward(self, x):\n",
    "        self.y_pred = x  # Store for backward pass\n",
    "        return np.argmax(x, axis=1)\n",
    "\n",
    "    def backward(self, dy):\n",
    "        batch_size = dy.shape[0]\n",
    "        # One-hot encoding of the true labels\n",
    "        y_true = np.zeros((batch_size, self.n_classes))\n",
    "        y_true[np.arange(batch_size), dy] = 1.0\n",
    "\n",
    "        # Cross-entropy loss:\n",
    "        eps = 1e-15\n",
    "        correct_class_probs = self.y_pred[np.arange(batch_size), dy]\n",
    "        self.loss = -np.mean(np.log(correct_class_probs + eps))\n",
    "\n",
    "        # Gradient of cross-entropy wrt input probabilities:\n",
    "        dx = (self.y_pred - y_true) / batch_size\n",
    "        return dx\n",
    "\n",
    "def make_classifier():\n",
    "    # Two-layer MLP:\n",
    "    # Input: 2D (x,y)\n",
    "    # Hidden layer: use ReLU\n",
    "    # Output layer: 3 classes -> use Softmax\n",
    "    return Sequential(\n",
    "        Linear(2, 10),\n",
    "        ReLU(),\n",
    "        Linear(10, 3),\n",
    "        Softmax(),\n",
    "        CrossEntropyLoss(n_classes=3),\n",
    "    )\n",
    "\n",
    "np.random.seed(42)\n",
    "problem = ClassificationProblem(model=make_classifier())\n",
    "# Uncomment the next line to actually train the model\n",
    "# loss_values = problem.train(100)\n",
    "problem.show()"
   ]
  },
  {
   "cell_type": "markdown",
   "id": "461a78cf",
   "metadata": {
    "lines_to_next_cell": 2
   },
   "source": [
    "## Problem 6 (Bonus)\n",
    "> Build a neural network that can learn addition modulo 10. The architecture is up to you!\n",
    ">\n",
    "> Requirements:\n",
    ">\n",
    "> - _Do not_ encode numbers directly as input values. Instead, use one-hot embeddings or randomly initialized, learnable embeddings.\n",
    "> - Reserve a very small fraction of data points to compute test loss.\n",
    "> - Graph test loss and training loss over many epochs of full-batch gradient descent.\n",
    ">\n",
    "> For full points, test loss should drop to 0. _(4 points)_"
   ]
  },
  {
   "cell_type": "code",
   "execution_count": 21,
   "id": "fe3c9356",
   "metadata": {},
   "outputs": [
    {
     "ename": "ModuleNotFoundError",
     "evalue": "No module named 'torch'",
     "output_type": "error",
     "traceback": [
      "\u001b[1;31m---------------------------------------------------------------------------\u001b[0m",
      "\u001b[1;31mModuleNotFoundError\u001b[0m                       Traceback (most recent call last)",
      "Cell \u001b[1;32mIn[21], line 1\u001b[0m\n\u001b[1;32m----> 1\u001b[0m \u001b[38;5;28;01mimport\u001b[39;00m \u001b[38;5;21;01mtorch\u001b[39;00m\n\u001b[0;32m      2\u001b[0m \u001b[38;5;28;01mimport\u001b[39;00m \u001b[38;5;21;01mtorch\u001b[39;00m\u001b[38;5;21;01m.\u001b[39;00m\u001b[38;5;21;01mnn\u001b[39;00m \u001b[38;5;28;01mas\u001b[39;00m \u001b[38;5;21;01mnn\u001b[39;00m\n\u001b[0;32m      3\u001b[0m \u001b[38;5;28;01mimport\u001b[39;00m \u001b[38;5;21;01mtorch\u001b[39;00m\u001b[38;5;21;01m.\u001b[39;00m\u001b[38;5;21;01moptim\u001b[39;00m \u001b[38;5;28;01mas\u001b[39;00m \u001b[38;5;21;01moptim\u001b[39;00m\n",
      "\u001b[1;31mModuleNotFoundError\u001b[0m: No module named 'torch'"
     ]
    }
   ],
   "source": [
    "import torch\n",
    "import torch.nn as nn\n",
    "import torch.optim as optim\n",
    "import matplotlib.pyplot as plt\n",
    "import random\n",
    "\n",
    "# ----------------------\n",
    "# 1. Prepare Data\n",
    "# ----------------------\n",
    "digits = list(range(10))\n",
    "all_pairs = [(a, b) for a in digits for b in digits]\n",
    "\n",
    "# Reserve a small fraction for testing, e.g. 5 pairs\n",
    "random.shuffle(all_pairs)\n",
    "test_pairs = all_pairs[:5]\n",
    "train_pairs = all_pairs[5:]\n",
    "\n",
    "# Convert data to tensors\n",
    "def make_batch(pairs):\n",
    "    # Inputs: two columns of integers\n",
    "    a = torch.tensor([p[0] for p in pairs], dtype=torch.long)\n",
    "    b = torch.tensor([p[1] for p in pairs], dtype=torch.long)\n",
    "    # Labels: (a + b) % 10\n",
    "    labels = torch.tensor([(p[0] + p[1]) % 10 for p in pairs], dtype=torch.long)\n",
    "    return a, b, labels\n",
    "\n",
    "train_a, train_b, train_labels = make_batch(train_pairs)\n",
    "test_a, test_b, test_labels = make_batch(test_pairs)\n",
    "\n",
    "# ----------------------\n",
    "# 2. Define Model\n",
    "# ----------------------\n",
    "class Mod10AdditionNet(nn.Module):\n",
    "    def __init__(self, embedding_dim=8, hidden_dim=16):\n",
    "        super(Mod10AdditionNet, self).__init__()\n",
    "        # Learnable embeddings for digits 0-9\n",
    "        self.embedding = nn.Embedding(num_embeddings=10, embedding_dim=embedding_dim)\n",
    "        \n",
    "        # A small MLP\n",
    "        self.fc1 = nn.Linear(2 * embedding_dim, hidden_dim)\n",
    "        self.fc2 = nn.Linear(hidden_dim, 10)\n",
    "        \n",
    "    def forward(self, a, b):\n",
    "        # Embed each input digit\n",
    "        emb_a = self.embedding(a)  # [batch, embedding_dim]\n",
    "        emb_b = self.embedding(b)  # [batch, embedding_dim]\n",
    "        \n",
    "        # Concatenate embeddings\n",
    "        x = torch.cat([emb_a, emb_b], dim=-1)\n",
    "        \n",
    "        # MLP\n",
    "        x = torch.relu(self.fc1(x))\n",
    "        x = self.fc2(x)  # [batch, 10]\n",
    "        return x\n",
    "\n",
    "model = Mod10AdditionNet()\n",
    "criterion = nn.CrossEntropyLoss()\n",
    "optimizer = optim.SGD(model.parameters(), lr=0.1)\n",
    "\n",
    "# ----------------------\n",
    "# 3. Training Loop\n",
    "# ----------------------\n",
    "epochs = 200\n",
    "train_losses = []\n",
    "test_losses = []\n",
    "\n",
    "for epoch in range(epochs):\n",
    "    model.train()\n",
    "    optimizer.zero_grad()\n",
    "    # Forward pass on all training examples (full batch)\n",
    "    train_outputs = model(train_a, train_b)\n",
    "    train_loss = criterion(train_outputs, train_labels)\n",
    "    # Backprop\n",
    "    train_loss.backward()\n",
    "    optimizer.step()\n",
    "    \n",
    "    # Evaluate on test data\n",
    "    model.eval()\n",
    "    with torch.no_grad():\n",
    "        test_outputs = model(test_a, test_b)\n",
    "        test_loss = criterion(test_outputs, test_labels)\n",
    "    \n",
    "    train_losses.append(train_loss.item())\n",
    "    test_losses.append(test_loss.item())\n",
    "\n",
    "# ----------------------\n",
    "# 4. Check Results\n",
    "# ----------------------\n",
    "# Print final losses and accuracy\n",
    "print(\"Final Training Loss:\", train_losses[-1])\n",
    "print(\"Final Test Loss:\", test_losses[-1])\n",
    "\n",
    "# Check predictions on test set\n",
    "with torch.no_grad():\n",
    "    preds = torch.argmax(model(test_a, test_b), dim=1)\n",
    "correct = (preds == test_labels).sum().item()\n",
    "print(f\"Test Correct: {correct}/{len(test_pairs)}\")\n",
    "\n",
    "# ----------------------\n",
    "# 5. Plot Loss Curves\n",
    "# ----------------------\n",
    "plt.figure(figsize=(8, 6))\n",
    "plt.plot(train_losses, label='Train Loss')\n",
    "plt.plot(test_losses, label='Test Loss')\n",
    "plt.title('Training and Test Loss Over Epochs')\n",
    "plt.xlabel('Epoch')\n",
    "plt.ylabel('Loss')\n",
    "plt.legend()\n",
    "plt.grid(True)\n",
    "plt.show()\n"
   ]
  },
  {
   "cell_type": "code",
   "execution_count": null,
   "id": "1870868f",
   "metadata": {},
   "outputs": [],
   "source": []
  }
 ],
 "metadata": {
  "jupytext": {
   "cell_metadata_filter": "-all",
   "main_language": "python",
   "notebook_metadata_filter": "-all"
  },
  "kernelspec": {
   "display_name": "Python 3",
   "language": "python",
   "name": "python3"
  },
  "language_info": {
   "codemirror_mode": {
    "name": "ipython",
    "version": 3
   },
   "file_extension": ".py",
   "mimetype": "text/x-python",
   "name": "python",
   "nbconvert_exporter": "python",
   "pygments_lexer": "ipython3",
   "version": "3.12.7"
  }
 },
 "nbformat": 4,
 "nbformat_minor": 5
}
